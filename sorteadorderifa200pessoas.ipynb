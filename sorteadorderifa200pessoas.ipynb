{
  "nbformat": 4,
  "nbformat_minor": 0,
  "metadata": {
    "colab": {
      "provenance": [],
      "authorship_tag": "ABX9TyOPa/yEWhhOkq9JLWFXr4p3",
      "include_colab_link": true
    },
    "kernelspec": {
      "name": "python3",
      "display_name": "Python 3"
    },
    "language_info": {
      "name": "python"
    }
  },
  "cells": [
    {
      "cell_type": "markdown",
      "metadata": {
        "id": "view-in-github",
        "colab_type": "text"
      },
      "source": [
        "<a href=\"https://colab.research.google.com/github/Miguelzan/Sorteadortkinter/blob/main/sorteadorderifa200pessoas.ipynb\" target=\"_parent\"><img src=\"https://colab.research.google.com/assets/colab-badge.svg\" alt=\"Open In Colab\"/></a>"
      ]
    },
    {
      "cell_type": "code",
      "execution_count": null,
      "metadata": {
        "id": "gBA84fKsSI2c"
      },
      "outputs": [],
      "source": [
        "#importa a biblioteca\n",
        "from tkinter import *\n",
        "from random import randint\n",
        "from time import sleep\n",
        "#Cria uma janela\n",
        "janela = Tk()\n",
        "#Cria um titulo\n",
        "janela.title('PROGRAMA DE SORTEIO')\n",
        "#Muda a cor de fundo\n",
        "janela.configure(background='pink')\n",
        "#Define o tamanho da janela (Largura e COMPRIMENTO)\n",
        "janela.geometry('600x400')\n",
        "#Cria uma caixa de exibição         > Cor do fundo - Cor da letra - tamanho e tipo de letra <\n",
        "titulo = Label(janela, text='RIFA DE CASAMENTO MIGUEL E DANIELA',bg='#8A2BE2',fg='#fff',font =('verdana', 17, 'bold'))\n",
        "#Define o angulo da Label (lados e cima ou baixo)\n",
        "titulo.place(relx=0.30, rely=0.15)\n",
        "\n",
        "#Realiza o sorteio do número\n",
        "def gerar ():\n",
        "    print('gerar')\n",
        "    lista = []\n",
        "    for i in range(0, 1):\n",
        "        prob = randint(0, 200)\n",
        "        lista.append(prob)\n",
        "        lista.sort()\n",
        "        sleep(5)\n",
        "    resultado['text'] = lista\n",
        "\n",
        "#Cria um botão\n",
        "botao = Button(janela, text='SORTEAR',bg='#8A2BE2',fg='white',font =('verdana', 13, 'bold'),command= gerar)\n",
        "botao.place(relx=0.38, rely=0.60, relwidth=0.22,relheight=0.13)\n",
        "\n",
        "#Imprime resultado na tela\n",
        "resultado = Label(janela,text='Sorteando...',bg='white',font =('verdana', 13, 'bold'))\n",
        "resultado.place(relx=0.38, rely=0.40,relwidth=0.22,relheight=0.13)\n",
        "\n",
        "\n",
        "#Cria um loop na janela\n",
        "janela.mainloop()\n",
        "\n",
        "#Cria uma caixa interativa\n",
        "#texto = Entry(janela,font =('verdana', 15, 'bold'))\n",
        "#texto.place(relx=0.38, rely=0.40,relwidth=0.22,relheight=0.13)"
      ]
    }
  ]
}